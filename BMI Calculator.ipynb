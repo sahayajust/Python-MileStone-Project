{
 "cells": [
  {
   "cell_type": "markdown",
   "id": "b7c11b57-005d-43fe-9b13-f81c5b8f9d5d",
   "metadata": {},
   "source": [
    "## Height and Weight Calculation"
   ]
  },
  {
   "cell_type": "code",
   "execution_count": 1,
   "id": "2f8abba3-f87e-4663-b804-6d4250c777c8",
   "metadata": {},
   "outputs": [
    {
     "name": "stdout",
     "output_type": "stream",
     "text": [
      "Welcome to the BMI Calculator!\n",
      "Please enter your weight (in kilograms):\n"
     ]
    },
    {
     "name": "stdin",
     "output_type": "stream",
     "text": [
      " 45\n"
     ]
    },
    {
     "name": "stdout",
     "output_type": "stream",
     "text": [
      "Please enter your height (in meters):\n"
     ]
    },
    {
     "name": "stdin",
     "output_type": "stream",
     "text": [
      " 1.52\n"
     ]
    },
    {
     "name": "stdout",
     "output_type": "stream",
     "text": [
      "Your BMI is: 19.47714681440443\n",
      "Interpretation: Normal weight\n"
     ]
    }
   ],
   "source": [
    "def calculate_bmi(weight, height):\n",
    "    a=height**2\n",
    "    b=weight / a\n",
    "    return b\n",
    "def interpret_bmi(bmi):\n",
    "    if (bmi<18):\n",
    "        return \"underweight\"\n",
    "    elif  bmi>18 and bmi < 25:\n",
    "        return \"Normal weight\"\n",
    "    elif 25< bmi and bmi < 30:\n",
    "        return \"Overweight\"\n",
    "    else:\n",
    "        return \"obese\"\n",
    "\n",
    "\n",
    "print(\"Welcome to the BMI Calculator!\")\n",
    "print(\"Please enter your weight (in kilograms):\")\n",
    "weight = float(input())\n",
    "print(\"Please enter your height (in meters):\")\n",
    "    \n",
    "height = float(input())\n",
    "    \n",
    "bmi = calculate_bmi(weight, height)\n",
    "\n",
    "print(\"Your BMI is:\", bmi)\n",
    "print(\"Interpretation:\",interpret_bmi(bmi))"
   ]
  },
  {
   "cell_type": "code",
   "execution_count": null,
   "id": "57a90058-54c1-4799-a603-668dd8624322",
   "metadata": {},
   "outputs": [],
   "source": []
  }
 ],
 "metadata": {
  "kernelspec": {
   "display_name": "anaconda-panel-2023.05-py310",
   "language": "python",
   "name": "conda-env-anaconda-panel-2023.05-py310-py"
  },
  "language_info": {
   "codemirror_mode": {
    "name": "ipython",
    "version": 3
   },
   "file_extension": ".py",
   "mimetype": "text/x-python",
   "name": "python",
   "nbconvert_exporter": "python",
   "pygments_lexer": "ipython3",
   "version": "3.11.5"
  }
 },
 "nbformat": 4,
 "nbformat_minor": 5
}
